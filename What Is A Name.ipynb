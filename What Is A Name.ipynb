{
 "cells": [
  {
   "cell_type": "markdown",
   "metadata": {
    "dc": {
     "key": "af3ab50ea7"
    },
    "deletable": false,
    "editable": false,
    "run_control": {
     "frozen": true
    },
    "tags": [
     "context"
    ]
   },
   "source": [
    "## 1. Introduction to Baby Names Data\n",
    "<blockquote>\n",
    "  <p>What’s in a name? That which we call a rose, By any other name would smell as sweet.</p>\n",
    "</blockquote>\n",
    "<p>In this project, we will explore a rich dataset of first names of babies born in the US, that spans a period of more than 100 years! This suprisingly simple dataset can help us uncover so many interesting stories, and that is exactly what we are going to be doing. </p>\n",
    "<p>Let us start by reading the data.</p>"
   ]
  },
  {
   "cell_type": "code",
   "execution_count": 1,
   "metadata": {
    "dc": {
     "key": "af3ab50ea7"
    },
    "tags": [
     "sample_code"
    ]
   },
   "outputs": [
    {
     "data": {
      "text/html": [
       "<div>\n",
       "<style scoped>\n",
       "    .dataframe tbody tr th:only-of-type {\n",
       "        vertical-align: middle;\n",
       "    }\n",
       "\n",
       "    .dataframe tbody tr th {\n",
       "        vertical-align: top;\n",
       "    }\n",
       "\n",
       "    .dataframe thead th {\n",
       "        text-align: right;\n",
       "    }\n",
       "</style>\n",
       "<table border=\"1\" class=\"dataframe\">\n",
       "  <thead>\n",
       "    <tr style=\"text-align: right;\">\n",
       "      <th></th>\n",
       "      <th>name</th>\n",
       "      <th>sex</th>\n",
       "      <th>births</th>\n",
       "      <th>year</th>\n",
       "    </tr>\n",
       "  </thead>\n",
       "  <tbody>\n",
       "    <tr>\n",
       "      <th>0</th>\n",
       "      <td>Mary</td>\n",
       "      <td>F</td>\n",
       "      <td>7065</td>\n",
       "      <td>1880</td>\n",
       "    </tr>\n",
       "    <tr>\n",
       "      <th>1</th>\n",
       "      <td>Anna</td>\n",
       "      <td>F</td>\n",
       "      <td>2604</td>\n",
       "      <td>1880</td>\n",
       "    </tr>\n",
       "    <tr>\n",
       "      <th>2</th>\n",
       "      <td>Emma</td>\n",
       "      <td>F</td>\n",
       "      <td>2003</td>\n",
       "      <td>1880</td>\n",
       "    </tr>\n",
       "    <tr>\n",
       "      <th>3</th>\n",
       "      <td>Elizabeth</td>\n",
       "      <td>F</td>\n",
       "      <td>1939</td>\n",
       "      <td>1880</td>\n",
       "    </tr>\n",
       "    <tr>\n",
       "      <th>4</th>\n",
       "      <td>Minnie</td>\n",
       "      <td>F</td>\n",
       "      <td>1746</td>\n",
       "      <td>1880</td>\n",
       "    </tr>\n",
       "  </tbody>\n",
       "</table>\n",
       "</div>"
      ],
      "text/plain": [
       "        name sex  births  year\n",
       "0       Mary   F    7065  1880\n",
       "1       Anna   F    2604  1880\n",
       "2       Emma   F    2003  1880\n",
       "3  Elizabeth   F    1939  1880\n",
       "4     Minnie   F    1746  1880"
      ]
     },
     "execution_count": 1,
     "metadata": {},
     "output_type": "execute_result"
    }
   ],
   "source": [
    "# Import modules\n",
    "import pandas as pd\n",
    "\n",
    "# Read names into a dataframe: bnames\n",
    "bnames = pd.read_csv('names.csv.gz')\n",
    "bnames.head()"
   ]
  },
  {
   "cell_type": "markdown",
   "metadata": {
    "dc": {
     "key": "0bc85b342d"
    },
    "deletable": false,
    "editable": false,
    "run_control": {
     "frozen": true
    },
    "tags": [
     "context"
    ]
   },
   "source": [
    "## 2. Exploring Trends in Names\n",
    "<p>One of the first things we want to do is to understand naming trends. Let us start by figuring out the top five most popular male and female names for this decade (born 2011 and later). Do you want to make any guesses? Go on, be a sport!!</p>"
   ]
  },
  {
   "cell_type": "code",
   "execution_count": 2,
   "metadata": {},
   "outputs": [],
   "source": [
    "# bnames_top5: A dataframe with top 5 popular male and female names for the decade\n",
    "import numpy as np"
   ]
  },
  {
   "cell_type": "code",
   "execution_count": 3,
   "metadata": {},
   "outputs": [],
   "source": [
    "bnames_2010 = bnames.loc[bnames['year']>2010]"
   ]
  },
  {
   "cell_type": "code",
   "execution_count": 4,
   "metadata": {
    "dc": {
     "key": "0bc85b342d"
    },
    "tags": [
     "sample_code"
    ]
   },
   "outputs": [
    {
     "name": "stdout",
     "output_type": "stream",
     "text": [
      "  sex      name  births\n",
      "0   F      Emma  121375\n",
      "1   F    Sophia  117352\n",
      "2   F    Olivia  111691\n",
      "3   F  Isabella  103947\n",
      "4   F       Ava   94507\n"
     ]
    }
   ],
   "source": [
    "bnames_2010_agg = bnames_2010.groupby(['sex', 'name'], as_index=False)['births'].sum()\n",
    "bnames_top5 = bnames_2010_agg.sort_values(['sex', 'births'], ascending=[True, False]).groupby('sex').head().reset_index(drop=True)\n",
    "print(bnames_top5.head())"
   ]
  },
  {
   "cell_type": "markdown",
   "metadata": {
    "dc": {
     "key": "7cca0a6aff"
    },
    "deletable": false,
    "editable": false,
    "run_control": {
     "frozen": true
    },
    "tags": [
     "context"
    ]
   },
   "source": [
    "## 3. Proportion of Births\n",
    "<p>While the number of births is a useful metric, making comparisons across years becomes difficult, as one would have to control for population effects. One way around this is to normalize the number of births by the total number of births in that year.</p>"
   ]
  },
  {
   "cell_type": "code",
   "execution_count": 5,
   "metadata": {
    "dc": {
     "key": "7cca0a6aff"
    },
    "tags": [
     "sample_code"
    ]
   },
   "outputs": [
    {
     "name": "stdout",
     "output_type": "stream",
     "text": [
      "              name sex  births  year  prop_births\n",
      "0             Mary   F    7065  1880     0.035065\n",
      "1             Anna   F    2604  1880     0.012924\n",
      "2             Emma   F    2003  1880     0.009941\n",
      "3        Elizabeth   F    1939  1880     0.009624\n",
      "4           Minnie   F    1746  1880     0.008666\n",
      "5         Margaret   F    1578  1880     0.007832\n",
      "6              Ida   F    1472  1880     0.007306\n",
      "7            Alice   F    1414  1880     0.007018\n",
      "8           Bertha   F    1320  1880     0.006551\n",
      "9            Sarah   F    1288  1880     0.006393\n",
      "10           Annie   F    1258  1880     0.006244\n",
      "11           Clara   F    1226  1880     0.006085\n",
      "12            Ella   F    1156  1880     0.005737\n",
      "13        Florence   F    1063  1880     0.005276\n",
      "14            Cora   F    1045  1880     0.005187\n",
      "15          Martha   F    1040  1880     0.005162\n",
      "16           Laura   F    1012  1880     0.005023\n",
      "17          Nellie   F     995  1880     0.004938\n",
      "18           Grace   F     982  1880     0.004874\n",
      "19          Carrie   F     949  1880     0.004710\n",
      "20           Maude   F     858  1880     0.004258\n",
      "21           Mabel   F     808  1880     0.004010\n",
      "22          Bessie   F     796  1880     0.003951\n",
      "23          Jennie   F     793  1880     0.003936\n",
      "24        Gertrude   F     787  1880     0.003906\n",
      "25           Julia   F     783  1880     0.003886\n",
      "26          Hattie   F     769  1880     0.003817\n",
      "27           Edith   F     768  1880     0.003812\n",
      "28          Mattie   F     704  1880     0.003494\n",
      "29            Rose   F     700  1880     0.003474\n",
      "...            ...  ..     ...   ...          ...\n",
      "1891864    Zariyan   M       5  2016     0.000001\n",
      "1891865     Zarren   M       5  2016     0.000001\n",
      "1891866      Zaryn   M       5  2016     0.000001\n",
      "1891867      Zaxon   M       5  2016     0.000001\n",
      "1891868     Zaxtyn   M       5  2016     0.000001\n",
      "1891869       Zaye   M       5  2016     0.000001\n",
      "1891870     Zaymar   M       5  2016     0.000001\n",
      "1891871     Zaymir   M       5  2016     0.000001\n",
      "1891872      Zaynn   M       5  2016     0.000001\n",
      "1891873   Zayshaun   M       5  2016     0.000001\n",
      "1891874     Zedric   M       5  2016     0.000001\n",
      "1891875   Zekariah   M       5  2016     0.000001\n",
      "1891876      Zelan   M       5  2016     0.000001\n",
      "1891877     Zephen   M       5  2016     0.000001\n",
      "1891878   Zephyrus   M       5  2016     0.000001\n",
      "1891879      Zeric   M       5  2016     0.000001\n",
      "1891880      Zerin   M       5  2016     0.000001\n",
      "1891881     Zethan   M       5  2016     0.000001\n",
      "1891882      Zihao   M       5  2016     0.000001\n",
      "1891883       Zimo   M       5  2016     0.000001\n",
      "1891884       Zinn   M       5  2016     0.000001\n",
      "1891885      Zirui   M       5  2016     0.000001\n",
      "1891886       Ziya   M       5  2016     0.000001\n",
      "1891887     Ziyang   M       5  2016     0.000001\n",
      "1891888       Zoel   M       5  2016     0.000001\n",
      "1891889     Zolton   M       5  2016     0.000001\n",
      "1891890     Zurich   M       5  2016     0.000001\n",
      "1891891     Zyahir   M       5  2016     0.000001\n",
      "1891892       Zyel   M       5  2016     0.000001\n",
      "1891893      Zylyn   M       5  2016     0.000001\n",
      "\n",
      "[1891894 rows x 5 columns]\n"
     ]
    }
   ],
   "source": [
    "# Read names into a dataframe: bnames\n",
    "bnames = pd.read_csv('names.csv.gz')\n",
    "bnames2 = bnames.copy()\n",
    "\n",
    "# Compute the proportion of births by year and add it as a new column\n",
    "total_births_by_year = bnames.groupby('year')['births', 'year'].transform(sum)\n",
    "bnames2['prop_births'] = bnames2.births/ total_births_by_year.births\n",
    "print(bnames2)"
   ]
  },
  {
   "cell_type": "markdown",
   "metadata": {
    "dc": {
     "key": "ec03f98f40"
    },
    "deletable": false,
    "editable": false,
    "run_control": {
     "frozen": true
    },
    "tags": [
     "context"
    ]
   },
   "source": [
    "## 4. Popularity of Names\n",
    "<p>Now that we have the proportion of births, let us plot the popularity of a name through the years. How about plotting the popularity of the female names <code>Elizabeth</code>, and <code>Deneen</code>, and inspecting the underlying trends for any interesting patterns!</p>"
   ]
  },
  {
   "cell_type": "code",
   "execution_count": 6,
   "metadata": {},
   "outputs": [],
   "source": [
    "# Set up matplotlib for plotting in the notebook.\n",
    "%matplotlib inline\n",
    "import matplotlib.pyplot as plt"
   ]
  },
  {
   "cell_type": "code",
   "execution_count": 7,
   "metadata": {},
   "outputs": [],
   "source": [
    "# Read names into a dataframe: bnames\n",
    "bnames = pd.read_csv('names.csv.gz')\n",
    "def plot_trends(name, sex):\n",
    "  data = bnames[(bnames.name == name) & (bnames.sex == sex)]\n",
    "  ax = data.plot(x = \"year\", y = \"births\")\n",
    "  ax.set_xlim(1880, 2016)\n",
    "  return ax"
   ]
  },
  {
   "cell_type": "code",
   "execution_count": 8,
   "metadata": {
    "dc": {
     "key": "ec03f98f40"
    },
    "tags": [
     "sample_code"
    ]
   },
   "outputs": [
    {
     "data": {
      "image/png": "[encoded data removed]",
      "text/plain": [
       "<Figure size 432x288 with 1 Axes>"
      ]
     },
     "metadata": {
      "needs_background": "light"
     },
     "output_type": "display_data"
    },
    {
     "data": {
      "image/png": "[encoded data removed]",
      "text/plain": [
       "<Figure size 432x288 with 1 Axes>"
      ]
     },
     "metadata": {
      "needs_background": "light"
     },
     "output_type": "display_data"
    }
   ],
   "source": [
    "# Plot trends for Elizabeth and Deneen \n",
    "for name in ('Elizabeth', 'Deneen'):\n",
    "    plt.axis = plot_trends(name, 'F')\n",
    "plt.xlabel('Year')\n",
    "plt.ylabel('Births')\n",
    "plt.show()"
   ]
  },
  {
   "cell_type": "code",
   "execution_count": 9,
   "metadata": {},
   "outputs": [],
   "source": [
    "# How many times did these female names peak?\n",
    "num_peaks_elizabeth = 3\n",
    "num_peaks_deneen    = 1"
   ]
  },
  {
   "cell_type": "markdown",
   "metadata": {
    "dc": {
     "key": "b56a9fcef5"
    },
    "deletable": false,
    "editable": false,
    "run_control": {
     "frozen": true
    },
    "tags": [
     "context"
    ]
   },
   "source": [
    "## 5. Trendy vs. Stable Names\n",
    "<p>Based on the plots we created earlier, we can see that <strong>Elizabeth</strong> is a fairly stable name, while <strong>Deneen</strong> is not. An interesting question to ask would be what are the top 5 stable and top 5 trendiest names. A stable name is one whose proportion across years does not vary drastically, while a trendy name is one whose popularity peaks for a short period and then dies down. </p>\n",
    "<p>There are many ways to measure trendiness. A simple measure would be to look at the maximum proportion of births for a name, normalized by the sume of proportion of births across years. For example, if the name <code>Joe</code> had the proportions <code>0.1, 0.2, 0.1, 0.1</code>, then the trendiness measure would be <code>0.2/(0.1 + 0.2 + 0.1 + 0.1)</code> which equals <code>0.5</code>.</p>\n",
    "<p>Let us use this idea to figure out the top 10 trendy names in this data set, with at least a 1000 births.</p>"
   ]
  },
  {
   "cell_type": "code",
   "execution_count": 10,
   "metadata": {
    "dc": {
     "key": "b56a9fcef5"
    },
    "tags": [
     "sample_code"
    ]
   },
   "outputs": [
    {
     "name": "stdout",
     "output_type": "stream",
     "text": [
      "       name sex  total   max  trendiness\n",
      "0  Christop   M   1082  1082    1.000000\n",
      "1   Royalty   F   1057   581    0.549669\n",
      "2     Kizzy   F   2325  1116    0.480000\n",
      "3    Aitana   F   1203   564    0.468828\n",
      "4    Deneen   F   3602  1604    0.445308\n",
      "5    Moesha   F   1067   426    0.399250\n",
      "6    Marely   F   2527  1004    0.397309\n",
      "7     Kanye   M   1304   507    0.388804\n",
      "8  Tennille   F   2172   769    0.354052\n",
      "9   Kadijah   F   1411   486    0.344437\n"
     ]
    }
   ],
   "source": [
    "# top10_trendy_names | A Data Frame of the top 10 most trendy names\n",
    "names = pd.DataFrame()\n",
    "name_and_sex_grouped = bnames.groupby(['name', 'sex'])\n",
    "names['total'] = name_and_sex_grouped['births'].sum()\n",
    "names['max'] = name_and_sex_grouped['births'].max()\n",
    "names['trendiness'] = names['max']/names['total']\n",
    "\n",
    "top10_trendy_names = names.loc[names['total'] > 999].sort_values(['trendiness'], ascending=False).head(10).reset_index()\n",
    "\n",
    "print(top10_trendy_names)"
   ]
  },
  {
   "cell_type": "markdown",
   "metadata": {
    "dc": {
     "key": "8beea38403"
    },
    "deletable": false,
    "editable": false,
    "run_control": {
     "frozen": true
    },
    "tags": [
     "context"
    ]
   },
   "source": [
    "## 6. Bring in Mortality Data\n",
    "<p>So, what more is in a name? Well, with some further work, it is possible to predict the age of a person based on the name (Whoa! Really????). For this, we will need actuarial data that can tell us the chances that someone is still alive, based on when they were born. Fortunately, the <a href=\"https://www.ssa.gov/\">SSA</a> provides detailed <a href=\"https://www.ssa.gov/oact/STATS/table4c6.html\">actuarial life tables</a> by birth cohorts.</p>\n",
    "<table>\n",
    "<thead>\n",
    "<tr>\n",
    "<th style=\"text-align:right;\">year</th>\n",
    "<th style=\"text-align:right;\">age</th>\n",
    "<th style=\"text-align:right;\">qx</th>\n",
    "<th style=\"text-align:right;\">lx</th>\n",
    "<th style=\"text-align:right;\">dx</th>\n",
    "<th style=\"text-align:right;\">Lx</th>\n",
    "<th style=\"text-align:right;\">Tx</th>\n",
    "<th style=\"text-align:right;\">ex</th>\n",
    "<th style=\"text-align:left;\">sex</th>\n",
    "</tr>\n",
    "</thead>\n",
    "<tbody>\n",
    "<tr>\n",
    "<td style=\"text-align:right;\">1910</td>\n",
    "<td style=\"text-align:right;\">39</td>\n",
    "<td style=\"text-align:right;\">0.00283</td>\n",
    "<td style=\"text-align:right;\">78275</td>\n",
    "<td style=\"text-align:right;\">222</td>\n",
    "<td style=\"text-align:right;\">78164</td>\n",
    "<td style=\"text-align:right;\">3129636</td>\n",
    "<td style=\"text-align:right;\">39.98</td>\n",
    "<td style=\"text-align:left;\">F</td>\n",
    "</tr>\n",
    "<tr>\n",
    "<td style=\"text-align:right;\">1910</td>\n",
    "<td style=\"text-align:right;\">40</td>\n",
    "<td style=\"text-align:right;\">0.00297</td>\n",
    "<td style=\"text-align:right;\">78053</td>\n",
    "<td style=\"text-align:right;\">232</td>\n",
    "<td style=\"text-align:right;\">77937</td>\n",
    "<td style=\"text-align:right;\">3051472</td>\n",
    "<td style=\"text-align:right;\">39.09</td>\n",
    "<td style=\"text-align:left;\">F</td>\n",
    "</tr>\n",
    "<tr>\n",
    "<td style=\"text-align:right;\">1910</td>\n",
    "<td style=\"text-align:right;\">41</td>\n",
    "<td style=\"text-align:right;\">0.00318</td>\n",
    "<td style=\"text-align:right;\">77821</td>\n",
    "<td style=\"text-align:right;\">248</td>\n",
    "<td style=\"text-align:right;\">77697</td>\n",
    "<td style=\"text-align:right;\">2973535</td>\n",
    "<td style=\"text-align:right;\">38.21</td>\n",
    "<td style=\"text-align:left;\">F</td>\n",
    "</tr>\n",
    "<tr>\n",
    "<td style=\"text-align:right;\">1910</td>\n",
    "<td style=\"text-align:right;\">42</td>\n",
    "<td style=\"text-align:right;\">0.00332</td>\n",
    "<td style=\"text-align:right;\">77573</td>\n",
    "<td style=\"text-align:right;\">257</td>\n",
    "<td style=\"text-align:right;\">77444</td>\n",
    "<td style=\"text-align:right;\">2895838</td>\n",
    "<td style=\"text-align:right;\">37.33</td>\n",
    "<td style=\"text-align:left;\">F</td>\n",
    "</tr>\n",
    "<tr>\n",
    "<td style=\"text-align:right;\">1910</td>\n",
    "<td style=\"text-align:right;\">43</td>\n",
    "<td style=\"text-align:right;\">0.00346</td>\n",
    "<td style=\"text-align:right;\">77316</td>\n",
    "<td style=\"text-align:right;\">268</td>\n",
    "<td style=\"text-align:right;\">77182</td>\n",
    "<td style=\"text-align:right;\">2818394</td>\n",
    "<td style=\"text-align:right;\">36.45</td>\n",
    "<td style=\"text-align:left;\">F</td>\n",
    "</tr>\n",
    "<tr>\n",
    "<td style=\"text-align:right;\">1910</td>\n",
    "<td style=\"text-align:right;\">44</td>\n",
    "<td style=\"text-align:right;\">0.00351</td>\n",
    "<td style=\"text-align:right;\">77048</td>\n",
    "<td style=\"text-align:right;\">270</td>\n",
    "<td style=\"text-align:right;\">76913</td>\n",
    "<td style=\"text-align:right;\">2741212</td>\n",
    "<td style=\"text-align:right;\">35.58</td>\n",
    "<td style=\"text-align:left;\">F</td>\n",
    "</tr>\n",
    "</tbody>\n",
    "</table>\n",
    "<p>You can read the <a href=\"https://www.ssa.gov/oact/NOTES/as120/LifeTables_Body.html\">documentation for the lifetables</a> to understand what the different columns mean. The key column of interest to us is <code>lx</code>, which provides the number of people born in a <code>year</code> who live upto a given <code>age</code>. The probability of being alive can be derived as <code>lx</code> by 100,000. </p>\n",
    "<p>Given that 2016 is the latest year in the baby names dataset, we are interested only in a subset of this data, that will help us answer the question, \"What percentage of people born in Year X are still alive in 2016?\" </p>\n",
    "<p>Let us use this data and plot it to get a sense of the mortality distribution!</p>"
   ]
  },
  {
   "cell_type": "code",
   "execution_count": 11,
   "metadata": {
    "dc": {
     "key": "8beea38403"
    },
    "tags": [
     "sample_code"
    ]
   },
   "outputs": [
    {
     "data": {
      "image/png": "[encoded data removed]",
      "text/plain": [
       "<Figure size 432x288 with 1 Axes>"
      ]
     },
     "metadata": {
      "needs_background": "light"
     },
     "output_type": "display_data"
    },
    {
     "data": {
      "text/html": [
       "<div>\n",
       "<style scoped>\n",
       "    .dataframe tbody tr th:only-of-type {\n",
       "        vertical-align: middle;\n",
       "    }\n",
       "\n",
       "    .dataframe tbody tr th {\n",
       "        vertical-align: top;\n",
       "    }\n",
       "\n",
       "    .dataframe thead th {\n",
       "        text-align: right;\n",
       "    }\n",
       "</style>\n",
       "<table border=\"1\" class=\"dataframe\">\n",
       "  <thead>\n",
       "    <tr style=\"text-align: right;\">\n",
       "      <th></th>\n",
       "      <th>year</th>\n",
       "      <th>age</th>\n",
       "      <th>qx</th>\n",
       "      <th>lx</th>\n",
       "      <th>dx</th>\n",
       "      <th>Lx</th>\n",
       "      <th>Tx</th>\n",
       "      <th>ex</th>\n",
       "      <th>sex</th>\n",
       "    </tr>\n",
       "  </thead>\n",
       "  <tbody>\n",
       "    <tr>\n",
       "      <th>116</th>\n",
       "      <td>1900</td>\n",
       "      <td>116</td>\n",
       "      <td>0.83363</td>\n",
       "      <td>0.0</td>\n",
       "      <td>0</td>\n",
       "      <td>0</td>\n",
       "      <td>0</td>\n",
       "      <td>0.69</td>\n",
       "      <td>M</td>\n",
       "    </tr>\n",
       "    <tr>\n",
       "      <th>236</th>\n",
       "      <td>1900</td>\n",
       "      <td>116</td>\n",
       "      <td>0.83363</td>\n",
       "      <td>0.0</td>\n",
       "      <td>0</td>\n",
       "      <td>0</td>\n",
       "      <td>0</td>\n",
       "      <td>0.69</td>\n",
       "      <td>F</td>\n",
       "    </tr>\n",
       "    <tr>\n",
       "      <th>346</th>\n",
       "      <td>1910</td>\n",
       "      <td>106</td>\n",
       "      <td>0.51178</td>\n",
       "      <td>7.0</td>\n",
       "      <td>3</td>\n",
       "      <td>5</td>\n",
       "      <td>9</td>\n",
       "      <td>1.38</td>\n",
       "      <td>M</td>\n",
       "    </tr>\n",
       "    <tr>\n",
       "      <th>466</th>\n",
       "      <td>1910</td>\n",
       "      <td>106</td>\n",
       "      <td>0.47062</td>\n",
       "      <td>61.0</td>\n",
       "      <td>29</td>\n",
       "      <td>47</td>\n",
       "      <td>92</td>\n",
       "      <td>1.52</td>\n",
       "      <td>F</td>\n",
       "    </tr>\n",
       "    <tr>\n",
       "      <th>576</th>\n",
       "      <td>1920</td>\n",
       "      <td>96</td>\n",
       "      <td>0.30765</td>\n",
       "      <td>1625.0</td>\n",
       "      <td>500</td>\n",
       "      <td>1,375</td>\n",
       "      <td>4,000</td>\n",
       "      <td>2.46</td>\n",
       "      <td>M</td>\n",
       "    </tr>\n",
       "  </tbody>\n",
       "</table>\n",
       "</div>"
      ],
      "text/plain": [
       "     year  age       qx      lx   dx     Lx     Tx    ex sex\n",
       "116  1900  116  0.83363     0.0    0      0      0  0.69   M\n",
       "236  1900  116  0.83363     0.0    0      0      0  0.69   F\n",
       "346  1910  106  0.51178     7.0    3      5      9  1.38   M\n",
       "466  1910  106  0.47062    61.0   29     47     92  1.52   F\n",
       "576  1920   96  0.30765  1625.0  500  1,375  4,000  2.46   M"
      ]
     },
     "execution_count": 11,
     "metadata": {},
     "output_type": "execute_result"
    }
   ],
   "source": [
    "# Read lifetables from datasets/lifetables.csv\n",
    "lifetables = pd.read_csv('lifetables.csv')\n",
    "\n",
    "# Extract subset relevant to those alive in 2016\n",
    "lifetables_2016 = lifetables[lifetables['year'] + lifetables['age'] == 2016]\n",
    "\n",
    "# Plot the mortality distribution: year vs. lx\n",
    "lifetables_2016.plot(x= 'year', y= 'lx')\n",
    "plt.show()\n",
    "lifetables_2016.head()"
   ]
  },
  {
   "cell_type": "markdown",
   "metadata": {
    "dc": {
     "key": "19e120d2df"
    },
    "deletable": false,
    "editable": false,
    "run_control": {
     "frozen": true
    },
    "tags": [
     "context"
    ]
   },
   "source": [
    "## 7. Smoothen the Curve!\n",
    "<p>We are almost there. There is just one small glitch. The cohort life tables are provided only for every decade. In order to figure out the distribution of people alive, we need the probabilities for every year. One way to fill up the gaps in the data is to use some kind of interpolation. Let us keep things simple and use linear interpolation to fill out the gaps in values of <code>lx</code>, between the years <code>1900</code> and <code>2016</code>.</p>"
   ]
  },
  {
   "cell_type": "code",
   "execution_count": 12,
   "metadata": {
    "dc": {
     "key": "19e120d2df"
    },
    "tags": [
     "sample_code"
    ]
   },
   "outputs": [
    {
     "name": "stdout",
     "output_type": "stream",
     "text": [
      "     year       lx sex\n",
      "0    1900      0.0   F\n",
      "1    1901      6.1   F\n",
      "2    1902     12.2   F\n",
      "3    1903     18.3   F\n",
      "4    1904     24.4   F\n",
      "5    1905     30.5   F\n",
      "6    1906     36.6   F\n",
      "7    1907     42.7   F\n",
      "8    1908     48.8   F\n",
      "9    1909     54.9   F\n",
      "10   1910     61.0   F\n",
      "11   1911    597.7   F\n",
      "12   1912   1134.4   F\n",
      "13   1913   1671.1   F\n",
      "14   1914   2207.8   F\n",
      "15   1915   2744.5   F\n",
      "16   1916   3281.2   F\n",
      "17   1917   3817.9   F\n",
      "18   1918   4354.6   F\n",
      "19   1919   4891.3   F\n",
      "20   1920   5428.0   F\n",
      "21   1921   8393.0   F\n",
      "22   1922  11358.0   F\n",
      "23   1923  14323.0   F\n",
      "24   1924  17288.0   F\n",
      "25   1925  20253.0   F\n",
      "26   1926  23218.0   F\n",
      "27   1927  26183.0   F\n",
      "28   1928  29148.0   F\n",
      "29   1929  32113.0   F\n",
      "..    ...      ...  ..\n",
      "202  1986  96718.2   M\n",
      "203  1987  96904.9   M\n",
      "204  1988  97091.6   M\n",
      "205  1989  97278.3   M\n",
      "206  1990  97465.0   M\n",
      "207  1991  97607.3   M\n",
      "208  1992  97749.6   M\n",
      "209  1993  97891.9   M\n",
      "210  1994  98034.2   M\n",
      "211  1995  98176.5   M\n",
      "212  1996  98318.8   M\n",
      "213  1997  98461.1   M\n",
      "214  1998  98603.4   M\n",
      "215  1999  98745.7   M\n",
      "216  2000  98888.0   M\n",
      "217  2001  98928.8   M\n",
      "218  2002  98969.6   M\n",
      "219  2003  99010.4   M\n",
      "220  2004  99051.2   M\n",
      "221  2005  99092.0   M\n",
      "222  2006  99132.8   M\n",
      "223  2007  99173.6   M\n",
      "224  2008  99214.4   M\n",
      "225  2009  99255.2   M\n",
      "226  2010  99296.0   M\n",
      "227  2011  99296.0   M\n",
      "228  2012  99296.0   M\n",
      "229  2013  99296.0   M\n",
      "230  2014  99296.0   M\n",
      "231  2015  99296.0   M\n",
      "\n",
      "[232 rows x 3 columns]\n"
     ]
    }
   ],
   "source": [
    "# Create smoothened lifetable_2016_s by interpolating values of lx\n",
    "year = np.arange(1900, 2016)\n",
    "mf = {\"M\": pd.DataFrame(), \"F\": pd.DataFrame()}\n",
    "for sex in [\"M\", \"F\"]:\n",
    "  d = lifetables_2016[lifetables_2016['sex'] == sex][[\"year\", \"lx\"]]\n",
    "  mf[sex] = d.set_index('year').reindex(year).interpolate().reset_index()\n",
    "  mf[sex]['sex'] = sex\n",
    "\n",
    "lifetable_2016_s = pd.concat(mf, ignore_index = True)\n",
    "lifetable_2016_s.head()\n",
    "print(lifetable_2016_s)"
   ]
  },
  {
   "cell_type": "markdown",
   "metadata": {
    "dc": {
     "key": "8edb689558"
    },
    "deletable": false,
    "editable": false,
    "run_control": {
     "frozen": true
    },
    "tags": [
     "context"
    ]
   },
   "source": [
    "## 8. Distribution of People Alive by Name\n",
    "<p>Now that we have all the required data, we need a few helper functions to help us with our analysis. </p>\n",
    "<p>The first function we will write is <code>get_data</code>,which takes <code>name</code> and <code>sex</code> as inputs and returns a data frame with the distribution of number of births and number of people alive by year.</p>\n",
    "<p>The second function is <code>plot_name</code> which accepts the same arguments as <code>get_data</code>, but returns a line plot of the distribution of number of births, overlaid by an area plot of the number alive by year.</p>\n",
    "<p>Using these functions, we will plot the distribution of births for boys named <strong>Joseph</strong> and girls named <strong>Brittany</strong>.</p>"
   ]
  },
  {
   "cell_type": "code",
   "execution_count": 13,
   "metadata": {
    "dc": {
     "key": "8edb689558"
    },
    "tags": [
     "sample_code"
    ]
   },
   "outputs": [],
   "source": [
    "def get_data(name, sex):\n",
    "    name_sex = ((bnames['name'] == name) & \n",
    "                (bnames['sex'] == sex))\n",
    "    data = bnames[name_sex].merge(lifetable_2016_s)\n",
    "    data['n_alive'] = data['lx']/(10**5)*data['births']\n",
    "    return data\n",
    "    \n",
    "\n",
    "def plot_data(name, sex):\n",
    "    fig, ax = plt.subplots()\n",
    "    dat = get_data(name, sex)\n",
    "    dat.plot(x = 'year', y = 'births', ax = ax, \n",
    "               color = 'black')\n",
    "    dat.plot(x = 'year', y = 'n_alive', \n",
    "              kind = 'area', ax = ax, \n",
    "              color = 'steelblue', alpha = 0.8)\n",
    "    ax.set_xlim(1900, 2016)\n",
    "    return\n",
    "\n",
    "# Plot the distribution of births and number alive for Joseph and Brittany\n",
    "    plot_data('Britanny', 'F')\n",
    "    plot_data('Joseph', 'M')"
   ]
  },
  {
   "cell_type": "markdown",
   "metadata": {
    "dc": {
     "key": "76f2d745c2"
    },
    "deletable": false,
    "editable": false,
    "run_control": {
     "frozen": true
    },
    "tags": [
     "context"
    ]
   },
   "source": [
    "## 9. Estimate Age\n",
    "<p>In this section, we want to figure out the probability that a person with a certain name is alive, as well as the quantiles of their age distribution. In particular, we will estimate the age of a female named <strong>Gertrude</strong>. Any guesses on how old a person with this name is? How about a male named <strong>William</strong>?</p>"
   ]
  },
  {
   "cell_type": "code",
   "execution_count": 14,
   "metadata": {
    "dc": {
     "key": "76f2d745c2"
    },
    "tags": [
     "sample_code"
    ]
   },
   "outputs": [
    {
     "data": {
      "text/plain": [
       "q25              70\n",
       "q50              80\n",
       "q75              89\n",
       "p_alive       18.73\n",
       "sex               F\n",
       "name       Gertrude\n",
       "dtype: object"
      ]
     },
     "execution_count": 14,
     "metadata": {},
     "output_type": "execute_result"
    }
   ],
   "source": [
    "# Import modules\n",
    "from wquantiles import quantile\n",
    "\n",
    "def estimate_age(name, sex):\n",
    "    data = get_data(name, sex)\n",
    "    qs = [0.75, 0.5, 0.25]\n",
    "    quantiles = [2016 - int(quantile(data.year, data.n_alive, q)) for q in qs]\n",
    "    result = dict(zip(['q25', 'q50', 'q75'], quantiles))\n",
    "    result['p_alive'] = round(data.n_alive.sum()/data.births.sum()*100, 2)\n",
    "    result['sex'] = sex\n",
    "    result['name'] = name\n",
    "    return pd.Series(result)\n",
    "# Estimate the age of Gertrude\n",
    "estimate_age('Gertrude', 'F')"
   ]
  },
  {
   "cell_type": "markdown",
   "metadata": {
    "dc": {
     "key": "9f5f6fd409"
    },
    "deletable": false,
    "editable": false,
    "run_control": {
     "frozen": true
    },
    "tags": [
     "context"
    ]
   },
   "source": [
    "## 10. Median Age of Top 10 Female Names\n",
    "<p>In the previous section, we estimated the age of a female named Gertrude. Let's go one step further this time, and compute the 25th, 50th and 75th percentiles of age, and the probability of being alive for the top 10 most common female names of all time. This should give us some interesting insights on how these names stack up in terms of median ages!</p>"
   ]
  },
  {
   "cell_type": "code",
   "execution_count": 15,
   "metadata": {
    "dc": {
     "key": "9f5f6fd409"
    },
    "tags": [
     "sample_code"
    ]
   },
   "outputs": [
    {
     "name": "stdout",
     "output_type": "stream",
     "text": [
      "  q25 q50 q75 p_alive sex       name\n",
      "0  20  30  38   86.05   F      Sarah\n",
      "1  23  38  58   74.49   F  Elizabeth\n",
      "2  31  38  44   96.35   F   Jennifer\n",
      "3  52  59  65    85.8   F      Susan\n",
      "4  54  63  71   76.75   F   Patricia\n",
      "5  53  64  74   54.41   F       Mary\n",
      "6  57  64  69   83.43   F      Linda\n",
      "7  51  64  75   49.47   F   Margaret\n",
      "8  58  66  74   70.61   F    Barbara\n",
      "9  64  75  85   35.81   F    Dorothy\n"
     ]
    }
   ],
   "source": [
    "# Import modules\n",
    "from wquantiles import quantile\n",
    "import pandas as pd\n",
    "import numpy as np\n",
    "bnames = pd.read_csv('names.csv.gz')\n",
    "# Function to estimate age quantiles\n",
    "# Create smoothened lifetable_2016_s by interpolating values of lx\n",
    "# Read lifetables from datasets/lifetables.csv\n",
    "lifetables = pd.read_csv('lifetables.csv')\n",
    "\n",
    "# Extract subset relevant to those alive in 2016\n",
    "lifetables_2016 = lifetables[lifetables['year'] + lifetables['age'] == 2016]\n",
    "year = np.arange(1900, 2016)\n",
    "mf = {\"M\": pd.DataFrame(), \"F\": pd.DataFrame()}\n",
    "for sex in [\"M\", \"F\"]:\n",
    "  d = lifetables_2016[lifetables_2016['sex'] == sex][[\"year\", \"lx\"]]\n",
    "  mf[sex] = d.set_index('year').reindex(year).interpolate().reset_index()\n",
    "  mf[sex]['sex'] = sex\n",
    "lifetable_2016_s = pd.concat(mf, ignore_index = True)\n",
    "\n",
    "# Function to estimate age quantiles\n",
    "\n",
    "def get_data(name, sex):\n",
    "    name_sex = ((bnames['name'] == name) & \n",
    "                (bnames['sex'] == sex))\n",
    "    data = bnames[name_sex].merge(lifetable_2016_s)\n",
    "    data['n_alive'] = data['lx']/(10**5)*data['births']\n",
    "    return data\n",
    "def estimate_age(name, sex):\n",
    "    data = get_data(name, sex)\n",
    "    qs = [0.75, 0.5, 0.25]\n",
    "    quantiles = [2016 - int(quantile(data.year, data.n_alive, q)) for q in qs]\n",
    "    result = dict(zip(['q25', 'q50', 'q75'], quantiles))\n",
    "    result['p_alive'] = round(data.n_alive.sum()/data.births.sum()*100, 2)\n",
    "    result['sex'] = sex\n",
    "    result['name'] = name\n",
    "    return pd.Series(result)\n",
    "# Estimate the age of Gertrude\n",
    "estimate_age('Gertrude', 'F')\n",
    "top_10_female_names = bnames.groupby(['name', 'sex'], as_index = False).agg({'births': np.sum}).sort_values('births', ascending = False).query('sex == \"F\"').head(10).reset_index(drop = True)\n",
    "estimates = pd.concat([estimate_age(name, 'F') for name in top_10_female_names.name], axis = 1)\n",
    "median_ages = estimates.T.sort_values('q50').reset_index(drop = True)\n",
    "print(median_ages)"
   ]
  }
 ],
 "metadata": {
  "kernelspec": {
   "display_name": "Python 3",
   "language": "python",
   "name": "python3"
  },
  "language_info": {
   "codemirror_mode": {
    "name": "ipython",
    "version": 3
   },
   "file_extension": ".py",
   "mimetype": "text/x-python",
   "name": "python",
   "nbconvert_exporter": "python",
   "pygments_lexer": "ipython3",
   "version": "3.7.1"
  }
 },
 "nbformat": 4,
 "nbformat_minor": 2
}
